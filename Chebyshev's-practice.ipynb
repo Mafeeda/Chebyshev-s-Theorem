{
 "cells": [
  {
   "cell_type": "code",
   "execution_count": 1,
   "id": "c3dd5fbc",
   "metadata": {},
   "outputs": [],
   "source": [
    "import numpy as np\n",
    "import pandas as pd\n",
    "import matplotlib.pyplot as plt"
   ]
  },
  {
   "cell_type": "code",
   "execution_count": 2,
   "id": "e4b6ccab",
   "metadata": {},
   "outputs": [],
   "source": [
    "# Aczel problem (1-13) 1-36"
   ]
  },
  {
   "cell_type": "code",
   "execution_count": 3,
   "id": "88a57c54",
   "metadata": {},
   "outputs": [],
   "source": [
    "x = [128, 121, 134, 136, 136, 118, 123, 109, 120, 116, 125, 128, 121, 129, 130, 131, 127, 119, 114,\n",
    "134, 110, 136, 134, 125, 128, 123, 128, 133, 132, 136, 134, 129, 132]"
   ]
  },
  {
   "cell_type": "code",
   "execution_count": 4,
   "id": "10616519",
   "metadata": {},
   "outputs": [
    {
     "data": {
      "text/plain": [
       "(array([2., 1., 1., 2., 3., 4., 1., 7., 4., 8.]),\n",
       " array([109. , 111.7, 114.4, 117.1, 119.8, 122.5, 125.2, 127.9, 130.6,\n",
       "        133.3, 136. ]),\n",
       " <BarContainer object of 10 artists>)"
      ]
     },
     "execution_count": 4,
     "metadata": {},
     "output_type": "execute_result"
    },
    {
     "data": {
      "image/png": "[encoded data removed]",
      "text/plain": [
       "<Figure size 432x288 with 1 Axes>"
      ]
     },
     "metadata": {
      "needs_background": "light"
     },
     "output_type": "display_data"
    }
   ],
   "source": [
    "plt.hist(x)"
   ]
  },
  {
   "cell_type": "code",
   "execution_count": 5,
   "id": "216e485f",
   "metadata": {},
   "outputs": [],
   "source": [
    "df = pd.Series(np.array([128, 121, 134, 136, 136, 118, 123, 109, 120, 116, 125, 128, 121, 129, 130, 131, 127, 119, 114,\n",
    "134, 110, 136, 134, 125, 128, 123, 128, 133, 132, 136, 134, 129, 132]))\n",
    "\n",
    "# or\n",
    "\n",
    "df = pd.Series(np.array(x))"
   ]
  },
  {
   "cell_type": "code",
   "execution_count": 6,
   "id": "79a1daa2",
   "metadata": {},
   "outputs": [
    {
     "data": {
      "text/plain": [
       "(33,)"
      ]
     },
     "execution_count": 6,
     "metadata": {},
     "output_type": "execute_result"
    }
   ],
   "source": [
    "df.shape"
   ]
  },
  {
   "cell_type": "code",
   "execution_count": 7,
   "id": "e51ef0d7",
   "metadata": {},
   "outputs": [
    {
     "data": {
      "text/plain": [
       "126.63636363636364"
      ]
     },
     "execution_count": 7,
     "metadata": {},
     "output_type": "execute_result"
    }
   ],
   "source": [
    "df.mean()"
   ]
  },
  {
   "cell_type": "code",
   "execution_count": 8,
   "id": "9680df71",
   "metadata": {},
   "outputs": [
    {
     "data": {
      "text/plain": [
       "7.598594367620657"
      ]
     },
     "execution_count": 8,
     "metadata": {},
     "output_type": "execute_result"
    }
   ],
   "source": [
    "df.std()"
   ]
  },
  {
   "cell_type": "markdown",
   "id": "0ce37696",
   "metadata": {},
   "source": [
    "## Chebyshev's Theorem"
   ]
  },
  {
   "cell_type": "code",
   "execution_count": 9,
   "id": "23885753",
   "metadata": {},
   "outputs": [],
   "source": [
    "# 3/4th or 75% of observations lie 2 Standard deviations of mean i.e. mean+2SD and mean-2SD"
   ]
  },
  {
   "cell_type": "code",
   "execution_count": 10,
   "id": "33dded78",
   "metadata": {},
   "outputs": [
    {
     "data": {
      "text/plain": [
       "24.75"
      ]
     },
     "execution_count": 10,
     "metadata": {},
     "output_type": "execute_result"
    }
   ],
   "source": [
    "33*0.75"
   ]
  },
  {
   "cell_type": "code",
   "execution_count": 11,
   "id": "298ac714",
   "metadata": {},
   "outputs": [
    {
     "data": {
      "text/plain": [
       "111.43917490112233"
      ]
     },
     "execution_count": 11,
     "metadata": {},
     "output_type": "execute_result"
    }
   ],
   "source": [
    "df.mean()-2*df.std()"
   ]
  },
  {
   "cell_type": "code",
   "execution_count": 12,
   "id": "7988af85",
   "metadata": {},
   "outputs": [
    {
     "data": {
      "text/plain": [
       "141.83355237160495"
      ]
     },
     "execution_count": 12,
     "metadata": {},
     "output_type": "execute_result"
    }
   ],
   "source": [
    "df.mean()+2*df.std()"
   ]
  },
  {
   "cell_type": "code",
   "execution_count": null,
   "id": "b8889e6b",
   "metadata": {},
   "outputs": [],
   "source": []
  }
 ],
 "metadata": {
  "kernelspec": {
   "display_name": "Python 3",
   "language": "python",
   "name": "python3"
  },
  "language_info": {
   "codemirror_mode": {
    "name": "ipython",
    "version": 3
   },
   "file_extension": ".py",
   "mimetype": "text/x-python",
   "name": "python",
   "nbconvert_exporter": "python",
   "pygments_lexer": "ipython3",
   "version": "3.8.8"
  }
 },
 "nbformat": 4,
 "nbformat_minor": 5
}
